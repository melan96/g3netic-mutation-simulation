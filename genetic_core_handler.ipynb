{
 "cells": [
  {
   "cell_type": "code",
   "execution_count": 32,
   "metadata": {},
   "outputs": [],
   "source": [
    "import pandas as pd;\n",
    "import numpy as np;\n",
    "import random as random;\n",
    "import re;\n",
    "import textwrap;"
   ]
  },
  {
   "cell_type": "code",
   "execution_count": 4,
   "metadata": {},
   "outputs": [],
   "source": [
    "dataload = pd.read_csv('dataset.csv')"
   ]
  },
  {
   "cell_type": "code",
   "execution_count": 5,
   "metadata": {},
   "outputs": [],
   "source": [
    "def sortPopulationByGeneticStrength(pandaDataFrame):\n",
    "    sort_stack = pandaDataFrame.sort_values(by=\"DATA_STACK\", inplace=False, ascending=False)\n",
    "    return sort_stack"
   ]
  },
  {
   "cell_type": "code",
   "execution_count": 6,
   "metadata": {},
   "outputs": [],
   "source": [
    "def removeWeaknessGeneticsByPopulation(pandaDataFrame, removePopulationSize):\n",
    "    strength_stack=pandaDataFrame.drop(pandaDataFrame.tail(removePopulationSize).index, inplace=False)\n",
    "    return strength_stack\n",
    "    "
   ]
  },
  {
   "cell_type": "code",
   "execution_count": 7,
   "metadata": {},
   "outputs": [],
   "source": [
    "def calculateOverallStrengthFromPopulation(pandaDataFrame):\n",
    "    overall_strength_rate =pandaDataFrame.mean()\n",
    "    return overall_strength_rate"
   ]
  },
  {
   "cell_type": "code",
   "execution_count": 45,
   "metadata": {},
   "outputs": [],
   "source": [
    "def letsDoMutation(pandaDataFrame, mutationCycles):\n",
    "    for cycle in range(mutationCycles):\n",
    "        \n",
    "        #Select Gene by POOL by Principle of natural evolution\n",
    "        selectRandomGeneX = random.randrange(0,500)\n",
    "        selectRandomGeneY = random.randrange(0,500)\n",
    "        \n",
    "        \n",
    "        selectedGeneX = pandaDataFrame['DATA_STACK'].values[selectRandomGeneX]\n",
    "        selectedGeneY = pandaDataFrame['DATA_STACK'].values[selectRandomGeneY]\n",
    "        \n",
    "        # split in to equal size\n",
    "        geneSplitX = textwrap.wrap(str(selectedGeneX),5)\n",
    "      geneSplitY = textwrap.wrap(str(selectedGeneX),5)\n",
    "        #print(selectedGeneX)\n",
    "  \n",
    "       # print(selectedGeneY)"
   ]
  },
  {
   "cell_type": "code",
   "execution_count": 46,
   "metadata": {},
   "outputs": [],
   "source": [
    "sorted_stack = sortPopulationByGeneticStrength(dataload)"
   ]
  },
  {
   "cell_type": "code",
   "execution_count": 47,
   "metadata": {},
   "outputs": [
    {
     "name": "stdout",
     "output_type": "stream",
     "text": [
      "['10110', '1000']\n",
      "['10100', '10011']\n",
      "['11100', '0011']\n",
      "['11001', '1101']\n",
      "['10100', '0111']\n",
      "['11001', '1010']\n",
      "['11010', '00100']\n",
      "['11100', '11101']\n",
      "['10111', '00011']\n",
      "['10001', '10011']\n"
     ]
    }
   ],
   "source": [
    "letsDoMutation(dataload,10)"
   ]
  },
  {
   "cell_type": "code",
   "execution_count": 15,
   "metadata": {},
   "outputs": [
    {
     "data": {
      "text/plain": [
       "1010011"
      ]
     },
     "execution_count": 15,
     "metadata": {},
     "output_type": "execute_result"
    }
   ],
   "source": [
    "dataload['DATA_STACK'].values[479]"
   ]
  },
  {
   "cell_type": "code",
   "execution_count": 22,
   "metadata": {},
   "outputs": [
    {
     "data": {
      "text/plain": [
       "''"
      ]
     },
     "execution_count": 22,
     "metadata": {},
     "output_type": "execute_result"
    }
   ],
   "source": [
    "re.split(\"[0-9]{5,}\", '10101010110100')[0].strip()"
   ]
  },
  {
   "cell_type": "code",
   "execution_count": 34,
   "metadata": {},
   "outputs": [
    {
     "data": {
      "text/plain": [
       "['10101', '01010']"
      ]
     },
     "execution_count": 34,
     "metadata": {},
     "output_type": "execute_result"
    }
   ],
   "source": [
    "textwrap.wrap(\"1010101010\", 5)"
   ]
  },
  {
   "cell_type": "code",
   "execution_count": 96,
   "metadata": {},
   "outputs": [
    {
     "data": {
      "text/plain": [
       "162"
      ]
     },
     "execution_count": 96,
     "metadata": {},
     "output_type": "execute_result"
    }
   ],
   "source": [
    "random.randrange(1,200)"
   ]
  },
  {
   "cell_type": "code",
   "execution_count": 107,
   "metadata": {},
   "outputs": [
    {
     "ename": "IndexError",
     "evalue": "index 250 is out of bounds for axis 0 with size 250",
     "output_type": "error",
     "traceback": [
      "\u001b[0;31m---------------------------------------------------------------------------\u001b[0m",
      "\u001b[0;31mIndexError\u001b[0m                                Traceback (most recent call last)",
      "\u001b[0;32m<ipython-input-107-712625a2a741>\u001b[0m in \u001b[0;36m<module>\u001b[0;34m\u001b[0m\n\u001b[0;32m----> 1\u001b[0;31m \u001b[0mstrength_stack_col\u001b[0m\u001b[0;34m[\u001b[0m\u001b[0;34m'DATA_STACK'\u001b[0m\u001b[0;34m]\u001b[0m\u001b[0;34m.\u001b[0m\u001b[0mvalues\u001b[0m\u001b[0;34m[\u001b[0m\u001b[0;36m250\u001b[0m\u001b[0;34m]\u001b[0m\u001b[0;34m\u001b[0m\u001b[0;34m\u001b[0m\u001b[0m\n\u001b[0m",
      "\u001b[0;31mIndexError\u001b[0m: index 250 is out of bounds for axis 0 with size 250"
     ]
    }
   ],
   "source": [
    "strength_stack_col['DATA_STACK'].values[250]"
   ]
  },
  {
   "cell_type": "code",
   "execution_count": null,
   "metadata": {},
   "outputs": [],
   "source": []
  }
 ],
 "metadata": {
  "kernelspec": {
   "display_name": "Python 3",
   "language": "python",
   "name": "python3"
  },
  "language_info": {
   "codemirror_mode": {
    "name": "ipython",
    "version": 3
   },
   "file_extension": ".py",
   "mimetype": "text/x-python",
   "name": "python",
   "nbconvert_exporter": "python",
   "pygments_lexer": "ipython3",
   "version": "3.7.4"
  }
 },
 "nbformat": 4,
 "nbformat_minor": 2
}
